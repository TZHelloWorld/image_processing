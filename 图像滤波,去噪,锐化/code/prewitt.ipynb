{
 "cells": [
  {
   "cell_type": "code",
   "execution_count": 1,
   "id": "fae71ad4",
   "metadata": {},
   "outputs": [
    {
     "data": {
      "text/plain": [
       "True"
      ]
     },
     "execution_count": 1,
     "metadata": {},
     "output_type": "execute_result"
    }
   ],
   "source": [
    "import cv2  \n",
    "import numpy as np  \n",
    "import matplotlib.pyplot as plt\n",
    " \n",
    "#读取图像\n",
    "img = cv2.imread('cat.jpg')\n",
    "lenna_img = cv2.cvtColor(img,cv2.COLOR_BGR2RGB)\n",
    "\n",
    "#灰度化处理图像\n",
    "grayImage = cv2.cvtColor(img, cv2.COLOR_BGR2GRAY)\n",
    " \n",
    "#Prewitt算子\n",
    "kernelx = np.array([[1,1,1],[0,0,0],[-1,-1,-1]],dtype=int)\n",
    "kernely = np.array([[-1,0,1],[-1,0,1],[-1,0,1]],dtype=int)\n",
    "x = cv2.filter2D(grayImage, cv2.CV_16S, kernelx)\n",
    "y = cv2.filter2D(grayImage, cv2.CV_16S, kernely)\n",
    "#转uint8\n",
    "absX = cv2.convertScaleAbs(x)       \n",
    "absY = cv2.convertScaleAbs(y)    \n",
    "Prewitt = cv2.addWeighted(absX,0.5,absY,0.5,0)\n",
    "\n",
    "cv2.imwrite('edge-prewitt.jpg',Prewitt)"
   ]
  },
  {
   "cell_type": "code",
   "execution_count": null,
   "id": "e05f11e2",
   "metadata": {},
   "outputs": [],
   "source": []
  }
 ],
 "metadata": {
  "kernelspec": {
   "display_name": "Python 3 (ipykernel)",
   "language": "python",
   "name": "python3"
  },
  "language_info": {
   "codemirror_mode": {
    "name": "ipython",
    "version": 3
   },
   "file_extension": ".py",
   "mimetype": "text/x-python",
   "name": "python",
   "nbconvert_exporter": "python",
   "pygments_lexer": "ipython3",
   "version": "3.8.13"
  },
  "widgets": {
   "application/vnd.jupyter.widget-state+json": {
    "state": {},
    "version_major": 2,
    "version_minor": 0
   }
  }
 },
 "nbformat": 4,
 "nbformat_minor": 5
}
