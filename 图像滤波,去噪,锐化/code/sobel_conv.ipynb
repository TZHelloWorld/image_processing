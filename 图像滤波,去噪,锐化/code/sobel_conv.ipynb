{
 "cells": [
  {
   "cell_type": "code",
   "execution_count": 1,
   "metadata": {},
   "outputs": [
    {
     "name": "stdout",
     "output_type": "stream",
     "text": [
      "tensor(1235., grad_fn=<MaxBackward1>)\n"
     ]
    }
   ],
   "source": [
    "import torch\n",
    "import numpy as np\n",
    "from torch import nn\n",
    "from PIL import Image\n",
    "from torch.autograd import Variable\n",
    "import torch.nn.functional as F\n",
    "import cv2\n",
    "\n",
    "def edge_conv2d(im):\n",
    "    # 用nn.Conv2d定义卷积操作\n",
    "    conv_op = nn.Conv2d(3, 3, kernel_size=3, padding=1, bias=False)\n",
    "    # 定义sobel算子参数，所有值除以3个人觉得出来的图更好些\n",
    "    sobel_kernel = np.array([[-1, -1, -1], [-1, 8, -1], [-1, -1, -1]], dtype='float32') / 3\n",
    "    # 将sobel算子转换为适配卷积操作的卷积核\n",
    "    sobel_kernel = sobel_kernel.reshape((1, 1, 3, 3))\n",
    "    # 卷积输出通道，这里我设置为3\n",
    "    sobel_kernel = np.repeat(sobel_kernel, 3, axis=1)\n",
    "    # 输入图的通道，这里我设置为3\n",
    "    sobel_kernel = np.repeat(sobel_kernel, 3, axis=0)\n",
    "\n",
    "    conv_op.weight.data = torch.from_numpy(sobel_kernel)\n",
    "    # print(conv_op.weight.size())\n",
    "    # print(conv_op, '\\n')\n",
    "\n",
    "    edge_detect = conv_op(im)\n",
    "    print(torch.max(edge_detect))\n",
    "    # 将输出转换为图片格式\n",
    "    edge_detect = edge_detect.squeeze().detach().numpy()\n",
    "    return edge_detect\n",
    "\n",
    "def edge_extraction():\n",
    "    im = cv2.imread('./cat.jpg', flags=1)\n",
    "    im = np.transpose(im, (2, 0, 1))\n",
    "    # 添加一个维度，对应于pytorch模型张量(B, N, W, H)中的batch_size\n",
    "    im = im[np.newaxis, :]\n",
    "    im = torch.Tensor(im)\n",
    "    edge_detect = edge_conv2d(im)\n",
    "    edge_detect = np.transpose(edge_detect, (1, 2, 0))\n",
    "    # cv2.imshow('edge.jpg', edge_detect)\n",
    "    # cv2.waitKey(0)\n",
    "    cv2.imwrite('edge-sobel-conv.jpg', edge_detect)\n",
    "\n",
    "if __name__ == \"__main__\":\n",
    "    edge_extraction()\n"
   ]
  },
  {
   "cell_type": "code",
   "execution_count": null,
   "metadata": {},
   "outputs": [],
   "source": []
  }
 ],
 "metadata": {
  "kernelspec": {
   "display_name": "Python 3 (ipykernel)",
   "language": "python",
   "name": "python3"
  },
  "language_info": {
   "codemirror_mode": {
    "name": "ipython",
    "version": 3
   },
   "file_extension": ".py",
   "mimetype": "text/x-python",
   "name": "python",
   "nbconvert_exporter": "python",
   "pygments_lexer": "ipython3",
   "version": "3.8.13"
  },
  "widgets": {
   "application/vnd.jupyter.widget-state+json": {
    "state": {},
    "version_major": 2,
    "version_minor": 0
   }
  }
 },
 "nbformat": 4,
 "nbformat_minor": 4
}
